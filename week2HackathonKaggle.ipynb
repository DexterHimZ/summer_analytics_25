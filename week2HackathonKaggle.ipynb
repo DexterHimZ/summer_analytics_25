{
 "cells": [
  {
   "cell_type": "markdown",
   "id": "a0d25d87",
   "metadata": {
    "id": "79f5b888",
    "papermill": {
     "duration": 0.004569,
     "end_time": "2025-06-12T20:29:23.131632",
     "exception": false,
     "start_time": "2025-06-12T20:29:23.127063",
     "status": "completed"
    },
    "tags": []
   },
   "source": [
    "# 🌿 NDVI-based Land Cover Classification"
   ]
  },
  {
   "cell_type": "markdown",
   "id": "be395691",
   "metadata": {
    "id": "a1588389",
    "papermill": {
     "duration": 0.003343,
     "end_time": "2025-06-12T20:29:23.138576",
     "exception": false,
     "start_time": "2025-06-12T20:29:23.135233",
     "status": "completed"
    },
    "tags": []
   },
   "source": [
    "## 📥 Load Data"
   ]
  },
  {
   "cell_type": "code",
   "execution_count": 1,
   "id": "4a656983",
   "metadata": {
    "execution": {
     "iopub.execute_input": "2025-06-12T20:29:23.146556Z",
     "iopub.status.busy": "2025-06-12T20:29:23.146253Z",
     "iopub.status.idle": "2025-06-12T20:29:28.044353Z",
     "shell.execute_reply": "2025-06-12T20:29:28.043454Z"
    },
    "id": "e3215802",
    "papermill": {
     "duration": 4.904348,
     "end_time": "2025-06-12T20:29:28.046240",
     "exception": false,
     "start_time": "2025-06-12T20:29:23.141892",
     "status": "completed"
    },
    "tags": []
   },
   "outputs": [],
   "source": [
    "import pandas as pd\n",
    "import numpy as np\n",
    "import matplotlib.pyplot as plt\n",
    "import seaborn as sns\n",
    "from sklearn.impute import SimpleImputer\n",
    "from sklearn.preprocessing import StandardScaler\n",
    "from sklearn.linear_model import LogisticRegression\n",
    "from sklearn.model_selection import train_test_split\n",
    "from sklearn.metrics import classification_report, confusion_matrix\n",
    "\n",
    "train = pd.read_csv('/kaggle/input/summer-analytics-mid-hackathon/hacktrain.csv')\n",
    "test = pd.read_csv('/kaggle/input/summer-analytics-mid-hackathon/hacktest.csv')\n",
    "#train = pd.read_csv('/content/hacktrain.csv')\n",
    "#test = pd.read_csv('/content/hacktest.csv')\n",
    "ndvi_cols = [col for col in train.columns if col.endswith('_N')]"
   ]
  },
  {
   "cell_type": "markdown",
   "id": "90c655c9",
   "metadata": {
    "id": "733f278b",
    "papermill": {
     "duration": 0.003113,
     "end_time": "2025-06-12T20:29:28.053105",
     "exception": false,
     "start_time": "2025-06-12T20:29:28.049992",
     "status": "completed"
    },
    "tags": []
   },
   "source": [
    "## 📊 Basic Exploration"
   ]
  },
  {
   "cell_type": "code",
   "execution_count": 2,
   "id": "d36d5fbf",
   "metadata": {
    "execution": {
     "iopub.execute_input": "2025-06-12T20:29:28.061186Z",
     "iopub.status.busy": "2025-06-12T20:29:28.060885Z",
     "iopub.status.idle": "2025-06-12T20:29:28.156208Z",
     "shell.execute_reply": "2025-06-12T20:29:28.155260Z"
    },
    "id": "4ad1768a",
    "outputId": "f118300b-98df-4895-99fd-2e4815a57bfd",
    "papermill": {
     "duration": 0.101371,
     "end_time": "2025-06-12T20:29:28.157843",
     "exception": false,
     "start_time": "2025-06-12T20:29:28.056472",
     "status": "completed"
    },
    "tags": []
   },
   "outputs": [
    {
     "data": {
      "text/html": [
       "<div>\n",
       "<style scoped>\n",
       "    .dataframe tbody tr th:only-of-type {\n",
       "        vertical-align: middle;\n",
       "    }\n",
       "\n",
       "    .dataframe tbody tr th {\n",
       "        vertical-align: top;\n",
       "    }\n",
       "\n",
       "    .dataframe thead th {\n",
       "        text-align: right;\n",
       "    }\n",
       "</style>\n",
       "<table border=\"1\" class=\"dataframe\">\n",
       "  <thead>\n",
       "    <tr style=\"text-align: right;\">\n",
       "      <th></th>\n",
       "      <th>Unnamed: 0</th>\n",
       "      <th>ID</th>\n",
       "      <th>20150720_N</th>\n",
       "      <th>20150602_N</th>\n",
       "      <th>20150517_N</th>\n",
       "      <th>20150501_N</th>\n",
       "      <th>20150415_N</th>\n",
       "      <th>20150330_N</th>\n",
       "      <th>20150314_N</th>\n",
       "      <th>20150226_N</th>\n",
       "      <th>...</th>\n",
       "      <th>20140610_N</th>\n",
       "      <th>20140525_N</th>\n",
       "      <th>20140509_N</th>\n",
       "      <th>20140423_N</th>\n",
       "      <th>20140407_N</th>\n",
       "      <th>20140322_N</th>\n",
       "      <th>20140218_N</th>\n",
       "      <th>20140202_N</th>\n",
       "      <th>20140117_N</th>\n",
       "      <th>20140101_N</th>\n",
       "    </tr>\n",
       "  </thead>\n",
       "  <tbody>\n",
       "    <tr>\n",
       "      <th>count</th>\n",
       "      <td>8000.000000</td>\n",
       "      <td>8000.000000</td>\n",
       "      <td>7440.000000</td>\n",
       "      <td>6800.000000</td>\n",
       "      <td>7200.000000</td>\n",
       "      <td>7040.000000</td>\n",
       "      <td>7520.000000</td>\n",
       "      <td>6880.000000</td>\n",
       "      <td>7280.000000</td>\n",
       "      <td>6640.000000</td>\n",
       "      <td>...</td>\n",
       "      <td>7520.000000</td>\n",
       "      <td>7280.000000</td>\n",
       "      <td>7120.000000</td>\n",
       "      <td>6240.000000</td>\n",
       "      <td>7360.000000</td>\n",
       "      <td>6880.000000</td>\n",
       "      <td>6560.000000</td>\n",
       "      <td>7440.000000</td>\n",
       "      <td>6800.000000</td>\n",
       "      <td>7600.000000</td>\n",
       "    </tr>\n",
       "    <tr>\n",
       "      <th>mean</th>\n",
       "      <td>4984.202625</td>\n",
       "      <td>4985.202625</td>\n",
       "      <td>5845.476916</td>\n",
       "      <td>4868.091395</td>\n",
       "      <td>4469.837748</td>\n",
       "      <td>5193.485086</td>\n",
       "      <td>2927.586705</td>\n",
       "      <td>4924.493648</td>\n",
       "      <td>3313.881373</td>\n",
       "      <td>4987.520158</td>\n",
       "      <td>...</td>\n",
       "      <td>4872.681670</td>\n",
       "      <td>3674.886731</td>\n",
       "      <td>3012.178524</td>\n",
       "      <td>3055.167358</td>\n",
       "      <td>2041.316792</td>\n",
       "      <td>2799.820342</td>\n",
       "      <td>2144.360224</td>\n",
       "      <td>6259.064275</td>\n",
       "      <td>2629.203972</td>\n",
       "      <td>2578.449870</td>\n",
       "    </tr>\n",
       "    <tr>\n",
       "      <th>std</th>\n",
       "      <td>2900.022898</td>\n",
       "      <td>2900.022898</td>\n",
       "      <td>2261.409128</td>\n",
       "      <td>2758.499942</td>\n",
       "      <td>2876.218394</td>\n",
       "      <td>2510.389832</td>\n",
       "      <td>2728.325670</td>\n",
       "      <td>2600.418802</td>\n",
       "      <td>2434.828743</td>\n",
       "      <td>2674.963286</td>\n",
       "      <td>...</td>\n",
       "      <td>2776.135418</td>\n",
       "      <td>2331.105635</td>\n",
       "      <td>2068.334108</td>\n",
       "      <td>2209.985887</td>\n",
       "      <td>2040.354512</td>\n",
       "      <td>2452.563243</td>\n",
       "      <td>2267.606759</td>\n",
       "      <td>1825.563702</td>\n",
       "      <td>2386.147667</td>\n",
       "      <td>2436.270797</td>\n",
       "    </tr>\n",
       "    <tr>\n",
       "      <th>min</th>\n",
       "      <td>0.000000</td>\n",
       "      <td>1.000000</td>\n",
       "      <td>-433.735000</td>\n",
       "      <td>-1781.790000</td>\n",
       "      <td>-2939.740000</td>\n",
       "      <td>-1924.360000</td>\n",
       "      <td>-1794.870000</td>\n",
       "      <td>-1848.910000</td>\n",
       "      <td>-1574.970000</td>\n",
       "      <td>-2532.490000</td>\n",
       "      <td>...</td>\n",
       "      <td>-2683.600000</td>\n",
       "      <td>-1043.160000</td>\n",
       "      <td>-2435.900000</td>\n",
       "      <td>-1505.780000</td>\n",
       "      <td>-1445.370000</td>\n",
       "      <td>55.564100</td>\n",
       "      <td>-232.292000</td>\n",
       "      <td>-2729.430000</td>\n",
       "      <td>-2139.860000</td>\n",
       "      <td>-4145.250000</td>\n",
       "    </tr>\n",
       "    <tr>\n",
       "      <th>25%</th>\n",
       "      <td>2514.750000</td>\n",
       "      <td>2515.750000</td>\n",
       "      <td>4331.232500</td>\n",
       "      <td>2067.265000</td>\n",
       "      <td>1521.195000</td>\n",
       "      <td>3087.072500</td>\n",
       "      <td>500.515750</td>\n",
       "      <td>2398.385000</td>\n",
       "      <td>992.778250</td>\n",
       "      <td>2404.075000</td>\n",
       "      <td>...</td>\n",
       "      <td>2010.732500</td>\n",
       "      <td>1369.355000</td>\n",
       "      <td>1368.742500</td>\n",
       "      <td>1009.827500</td>\n",
       "      <td>419.987000</td>\n",
       "      <td>791.741250</td>\n",
       "      <td>501.602750</td>\n",
       "      <td>5938.257500</td>\n",
       "      <td>691.171500</td>\n",
       "      <td>689.199000</td>\n",
       "    </tr>\n",
       "    <tr>\n",
       "      <th>50%</th>\n",
       "      <td>4917.500000</td>\n",
       "      <td>4918.500000</td>\n",
       "      <td>6908.255000</td>\n",
       "      <td>5513.375000</td>\n",
       "      <td>4672.000000</td>\n",
       "      <td>5810.755000</td>\n",
       "      <td>1586.240000</td>\n",
       "      <td>5742.485000</td>\n",
       "      <td>2802.010000</td>\n",
       "      <td>5831.120000</td>\n",
       "      <td>...</td>\n",
       "      <td>5484.905000</td>\n",
       "      <td>3659.770000</td>\n",
       "      <td>2633.695000</td>\n",
       "      <td>2624.125000</td>\n",
       "      <td>1183.715000</td>\n",
       "      <td>1599.385000</td>\n",
       "      <td>969.711500</td>\n",
       "      <td>6941.010000</td>\n",
       "      <td>1521.210000</td>\n",
       "      <td>1439.950000</td>\n",
       "    </tr>\n",
       "    <tr>\n",
       "      <th>75%</th>\n",
       "      <td>7311.250000</td>\n",
       "      <td>7312.250000</td>\n",
       "      <td>7626.845000</td>\n",
       "      <td>7555.570000</td>\n",
       "      <td>7431.697500</td>\n",
       "      <td>7511.880000</td>\n",
       "      <td>5703.067500</td>\n",
       "      <td>7280.110000</td>\n",
       "      <td>5508.350000</td>\n",
       "      <td>7430.915000</td>\n",
       "      <td>...</td>\n",
       "      <td>7607.755000</td>\n",
       "      <td>5927.035000</td>\n",
       "      <td>4128.082500</td>\n",
       "      <td>4952.317500</td>\n",
       "      <td>3075.997500</td>\n",
       "      <td>4909.997500</td>\n",
       "      <td>3227.380000</td>\n",
       "      <td>7395.612500</td>\n",
       "      <td>4452.257500</td>\n",
       "      <td>4146.342500</td>\n",
       "    </tr>\n",
       "    <tr>\n",
       "      <th>max</th>\n",
       "      <td>10544.000000</td>\n",
       "      <td>10545.000000</td>\n",
       "      <td>8376.150000</td>\n",
       "      <td>8566.420000</td>\n",
       "      <td>8650.500000</td>\n",
       "      <td>8516.100000</td>\n",
       "      <td>8267.120000</td>\n",
       "      <td>8499.330000</td>\n",
       "      <td>8001.700000</td>\n",
       "      <td>8452.380000</td>\n",
       "      <td>...</td>\n",
       "      <td>8489.970000</td>\n",
       "      <td>7981.820000</td>\n",
       "      <td>8445.410000</td>\n",
       "      <td>7762.980000</td>\n",
       "      <td>8078.080000</td>\n",
       "      <td>8216.700000</td>\n",
       "      <td>8247.630000</td>\n",
       "      <td>8410.330000</td>\n",
       "      <td>8418.230000</td>\n",
       "      <td>8502.020000</td>\n",
       "    </tr>\n",
       "  </tbody>\n",
       "</table>\n",
       "<p>8 rows × 29 columns</p>\n",
       "</div>"
      ],
      "text/plain": [
       "         Unnamed: 0            ID   20150720_N   20150602_N   20150517_N  \\\n",
       "count   8000.000000   8000.000000  7440.000000  6800.000000  7200.000000   \n",
       "mean    4984.202625   4985.202625  5845.476916  4868.091395  4469.837748   \n",
       "std     2900.022898   2900.022898  2261.409128  2758.499942  2876.218394   \n",
       "min        0.000000      1.000000  -433.735000 -1781.790000 -2939.740000   \n",
       "25%     2514.750000   2515.750000  4331.232500  2067.265000  1521.195000   \n",
       "50%     4917.500000   4918.500000  6908.255000  5513.375000  4672.000000   \n",
       "75%     7311.250000   7312.250000  7626.845000  7555.570000  7431.697500   \n",
       "max    10544.000000  10545.000000  8376.150000  8566.420000  8650.500000   \n",
       "\n",
       "        20150501_N   20150415_N   20150330_N   20150314_N   20150226_N  ...  \\\n",
       "count  7040.000000  7520.000000  6880.000000  7280.000000  6640.000000  ...   \n",
       "mean   5193.485086  2927.586705  4924.493648  3313.881373  4987.520158  ...   \n",
       "std    2510.389832  2728.325670  2600.418802  2434.828743  2674.963286  ...   \n",
       "min   -1924.360000 -1794.870000 -1848.910000 -1574.970000 -2532.490000  ...   \n",
       "25%    3087.072500   500.515750  2398.385000   992.778250  2404.075000  ...   \n",
       "50%    5810.755000  1586.240000  5742.485000  2802.010000  5831.120000  ...   \n",
       "75%    7511.880000  5703.067500  7280.110000  5508.350000  7430.915000  ...   \n",
       "max    8516.100000  8267.120000  8499.330000  8001.700000  8452.380000  ...   \n",
       "\n",
       "        20140610_N   20140525_N   20140509_N   20140423_N   20140407_N  \\\n",
       "count  7520.000000  7280.000000  7120.000000  6240.000000  7360.000000   \n",
       "mean   4872.681670  3674.886731  3012.178524  3055.167358  2041.316792   \n",
       "std    2776.135418  2331.105635  2068.334108  2209.985887  2040.354512   \n",
       "min   -2683.600000 -1043.160000 -2435.900000 -1505.780000 -1445.370000   \n",
       "25%    2010.732500  1369.355000  1368.742500  1009.827500   419.987000   \n",
       "50%    5484.905000  3659.770000  2633.695000  2624.125000  1183.715000   \n",
       "75%    7607.755000  5927.035000  4128.082500  4952.317500  3075.997500   \n",
       "max    8489.970000  7981.820000  8445.410000  7762.980000  8078.080000   \n",
       "\n",
       "        20140322_N   20140218_N   20140202_N   20140117_N   20140101_N  \n",
       "count  6880.000000  6560.000000  7440.000000  6800.000000  7600.000000  \n",
       "mean   2799.820342  2144.360224  6259.064275  2629.203972  2578.449870  \n",
       "std    2452.563243  2267.606759  1825.563702  2386.147667  2436.270797  \n",
       "min      55.564100  -232.292000 -2729.430000 -2139.860000 -4145.250000  \n",
       "25%     791.741250   501.602750  5938.257500   691.171500   689.199000  \n",
       "50%    1599.385000   969.711500  6941.010000  1521.210000  1439.950000  \n",
       "75%    4909.997500  3227.380000  7395.612500  4452.257500  4146.342500  \n",
       "max    8216.700000  8247.630000  8410.330000  8418.230000  8502.020000  \n",
       "\n",
       "[8 rows x 29 columns]"
      ]
     },
     "execution_count": 2,
     "metadata": {},
     "output_type": "execute_result"
    }
   ],
   "source": [
    "train.describe()"
   ]
  },
  {
   "cell_type": "code",
   "execution_count": 3,
   "id": "b354de48",
   "metadata": {
    "execution": {
     "iopub.execute_input": "2025-06-12T20:29:28.166641Z",
     "iopub.status.busy": "2025-06-12T20:29:28.166336Z",
     "iopub.status.idle": "2025-06-12T20:29:28.437687Z",
     "shell.execute_reply": "2025-06-12T20:29:28.436657Z"
    },
    "id": "e5e98d76",
    "outputId": "13e85e18-877c-4d8d-9202-0be7da2612da",
    "papermill": {
     "duration": 0.277497,
     "end_time": "2025-06-12T20:29:28.439306",
     "exception": false,
     "start_time": "2025-06-12T20:29:28.161809",
     "status": "completed"
    },
    "tags": []
   },
   "outputs": [
    {
     "data": {
      "image/png": "[encoded data removed]",
      "text/plain": [
       "<Figure size 640x480 with 1 Axes>"
      ]
     },
     "metadata": {},
     "output_type": "display_data"
    }
   ],
   "source": [
    "sns.countplot(y=train['class'])\n",
    "plt.title('Class Distribution')\n",
    "plt.show()"
   ]
  },
  {
   "cell_type": "code",
   "execution_count": 4,
   "id": "a593f0ff",
   "metadata": {
    "execution": {
     "iopub.execute_input": "2025-06-12T20:29:28.449507Z",
     "iopub.status.busy": "2025-06-12T20:29:28.449176Z",
     "iopub.status.idle": "2025-06-12T20:29:28.815706Z",
     "shell.execute_reply": "2025-06-12T20:29:28.814602Z"
    },
    "id": "e66cb2e6",
    "outputId": "239c8c39-9db7-4422-84a9-9363b580ff89",
    "papermill": {
     "duration": 0.373547,
     "end_time": "2025-06-12T20:29:28.817359",
     "exception": false,
     "start_time": "2025-06-12T20:29:28.443812",
     "status": "completed"
    },
    "tags": []
   },
   "outputs": [
    {
     "data": {
      "image/png": "[encoded data removed]",
      "text/plain": [
       "<Figure size 1200x400 with 1 Axes>"
      ]
     },
     "metadata": {},
     "output_type": "display_data"
    }
   ],
   "source": [
    "missing = train[ndvi_cols].isnull().sum()\n",
    "missing[missing > 0].plot(kind='bar', figsize=(12, 4))\n",
    "plt.title('Missing NDVI Values')\n",
    "plt.ylabel('Count')\n",
    "plt.show()"
   ]
  },
  {
   "cell_type": "markdown",
   "id": "a51635c8",
   "metadata": {
    "id": "4029fec1",
    "papermill": {
     "duration": 0.004675,
     "end_time": "2025-06-12T20:29:28.827312",
     "exception": false,
     "start_time": "2025-06-12T20:29:28.822637",
     "status": "completed"
    },
    "tags": []
   },
   "source": [
    "## ✨ Outlier Removal and Imputation"
   ]
  },
  {
   "cell_type": "code",
   "execution_count": 5,
   "id": "3034d13f",
   "metadata": {
    "execution": {
     "iopub.execute_input": "2025-06-12T20:29:28.838687Z",
     "iopub.status.busy": "2025-06-12T20:29:28.838275Z",
     "iopub.status.idle": "2025-06-12T20:29:28.979196Z",
     "shell.execute_reply": "2025-06-12T20:29:28.978213Z"
    },
    "id": "b57d5268",
    "papermill": {
     "duration": 0.149377,
     "end_time": "2025-06-12T20:29:28.981656",
     "exception": false,
     "start_time": "2025-06-12T20:29:28.832279",
     "status": "completed"
    },
    "tags": []
   },
   "outputs": [
    {
     "name": "stderr",
     "output_type": "stream",
     "text": [
      "/usr/local/lib/python3.11/dist-packages/pandas/core/computation/expressions.py:73: RuntimeWarning: invalid value encountered in less\n",
      "  return op(a, b)\n",
      "/usr/local/lib/python3.11/dist-packages/pandas/core/computation/expressions.py:73: RuntimeWarning: invalid value encountered in greater\n",
      "  return op(a, b)\n",
      "/usr/local/lib/python3.11/dist-packages/pandas/core/computation/expressions.py:73: RuntimeWarning: invalid value encountered in less\n",
      "  return op(a, b)\n",
      "/usr/local/lib/python3.11/dist-packages/pandas/core/computation/expressions.py:73: RuntimeWarning: invalid value encountered in greater\n",
      "  return op(a, b)\n",
      "/usr/local/lib/python3.11/dist-packages/pandas/core/computation/expressions.py:73: RuntimeWarning: invalid value encountered in less\n",
      "  return op(a, b)\n",
      "/usr/local/lib/python3.11/dist-packages/pandas/core/computation/expressions.py:73: RuntimeWarning: invalid value encountered in greater\n",
      "  return op(a, b)\n",
      "/usr/local/lib/python3.11/dist-packages/pandas/core/computation/expressions.py:73: RuntimeWarning: invalid value encountered in less\n",
      "  return op(a, b)\n",
      "/usr/local/lib/python3.11/dist-packages/pandas/core/computation/expressions.py:73: RuntimeWarning: invalid value encountered in greater\n",
      "  return op(a, b)\n",
      "/usr/local/lib/python3.11/dist-packages/pandas/core/computation/expressions.py:73: RuntimeWarning: invalid value encountered in less\n",
      "  return op(a, b)\n",
      "/usr/local/lib/python3.11/dist-packages/pandas/core/computation/expressions.py:73: RuntimeWarning: invalid value encountered in greater\n",
      "  return op(a, b)\n",
      "/usr/local/lib/python3.11/dist-packages/pandas/core/computation/expressions.py:73: RuntimeWarning: invalid value encountered in less\n",
      "  return op(a, b)\n",
      "/usr/local/lib/python3.11/dist-packages/pandas/core/computation/expressions.py:73: RuntimeWarning: invalid value encountered in greater\n",
      "  return op(a, b)\n",
      "/usr/local/lib/python3.11/dist-packages/pandas/core/computation/expressions.py:73: RuntimeWarning: invalid value encountered in less\n",
      "  return op(a, b)\n",
      "/usr/local/lib/python3.11/dist-packages/pandas/core/computation/expressions.py:73: RuntimeWarning: invalid value encountered in greater\n",
      "  return op(a, b)\n",
      "/usr/local/lib/python3.11/dist-packages/pandas/core/computation/expressions.py:73: RuntimeWarning: invalid value encountered in less\n",
      "  return op(a, b)\n",
      "/usr/local/lib/python3.11/dist-packages/pandas/core/computation/expressions.py:73: RuntimeWarning: invalid value encountered in greater\n",
      "  return op(a, b)\n",
      "/usr/local/lib/python3.11/dist-packages/pandas/core/computation/expressions.py:73: RuntimeWarning: invalid value encountered in less\n",
      "  return op(a, b)\n",
      "/usr/local/lib/python3.11/dist-packages/pandas/core/computation/expressions.py:73: RuntimeWarning: invalid value encountered in greater\n",
      "  return op(a, b)\n",
      "/usr/local/lib/python3.11/dist-packages/pandas/core/computation/expressions.py:73: RuntimeWarning: invalid value encountered in less\n",
      "  return op(a, b)\n",
      "/usr/local/lib/python3.11/dist-packages/pandas/core/computation/expressions.py:73: RuntimeWarning: invalid value encountered in greater\n",
      "  return op(a, b)\n",
      "/usr/local/lib/python3.11/dist-packages/pandas/core/computation/expressions.py:73: RuntimeWarning: invalid value encountered in less\n",
      "  return op(a, b)\n",
      "/usr/local/lib/python3.11/dist-packages/pandas/core/computation/expressions.py:73: RuntimeWarning: invalid value encountered in greater\n",
      "  return op(a, b)\n",
      "/usr/local/lib/python3.11/dist-packages/pandas/core/computation/expressions.py:73: RuntimeWarning: invalid value encountered in less\n",
      "  return op(a, b)\n",
      "/usr/local/lib/python3.11/dist-packages/pandas/core/computation/expressions.py:73: RuntimeWarning: invalid value encountered in greater\n",
      "  return op(a, b)\n",
      "/usr/local/lib/python3.11/dist-packages/pandas/core/computation/expressions.py:73: RuntimeWarning: invalid value encountered in less\n",
      "  return op(a, b)\n",
      "/usr/local/lib/python3.11/dist-packages/pandas/core/computation/expressions.py:73: RuntimeWarning: invalid value encountered in greater\n",
      "  return op(a, b)\n",
      "/usr/local/lib/python3.11/dist-packages/pandas/core/computation/expressions.py:73: RuntimeWarning: invalid value encountered in less\n",
      "  return op(a, b)\n",
      "/usr/local/lib/python3.11/dist-packages/pandas/core/computation/expressions.py:73: RuntimeWarning: invalid value encountered in greater\n",
      "  return op(a, b)\n",
      "/usr/local/lib/python3.11/dist-packages/pandas/core/computation/expressions.py:73: RuntimeWarning: invalid value encountered in less\n",
      "  return op(a, b)\n",
      "/usr/local/lib/python3.11/dist-packages/pandas/core/computation/expressions.py:73: RuntimeWarning: invalid value encountered in greater\n",
      "  return op(a, b)\n",
      "/usr/local/lib/python3.11/dist-packages/pandas/core/computation/expressions.py:73: RuntimeWarning: invalid value encountered in less\n",
      "  return op(a, b)\n",
      "/usr/local/lib/python3.11/dist-packages/pandas/core/computation/expressions.py:73: RuntimeWarning: invalid value encountered in greater\n",
      "  return op(a, b)\n",
      "/usr/local/lib/python3.11/dist-packages/pandas/core/computation/expressions.py:73: RuntimeWarning: invalid value encountered in less\n",
      "  return op(a, b)\n",
      "/usr/local/lib/python3.11/dist-packages/pandas/core/computation/expressions.py:73: RuntimeWarning: invalid value encountered in greater\n",
      "  return op(a, b)\n",
      "/usr/local/lib/python3.11/dist-packages/pandas/core/computation/expressions.py:73: RuntimeWarning: invalid value encountered in less\n",
      "  return op(a, b)\n",
      "/usr/local/lib/python3.11/dist-packages/pandas/core/computation/expressions.py:73: RuntimeWarning: invalid value encountered in greater\n",
      "  return op(a, b)\n",
      "/usr/local/lib/python3.11/dist-packages/pandas/core/computation/expressions.py:73: RuntimeWarning: invalid value encountered in less\n",
      "  return op(a, b)\n",
      "/usr/local/lib/python3.11/dist-packages/pandas/core/computation/expressions.py:73: RuntimeWarning: invalid value encountered in greater\n",
      "  return op(a, b)\n",
      "/usr/local/lib/python3.11/dist-packages/pandas/core/computation/expressions.py:73: RuntimeWarning: invalid value encountered in less\n",
      "  return op(a, b)\n",
      "/usr/local/lib/python3.11/dist-packages/pandas/core/computation/expressions.py:73: RuntimeWarning: invalid value encountered in greater\n",
      "  return op(a, b)\n",
      "/usr/local/lib/python3.11/dist-packages/pandas/core/computation/expressions.py:73: RuntimeWarning: invalid value encountered in less\n",
      "  return op(a, b)\n",
      "/usr/local/lib/python3.11/dist-packages/pandas/core/computation/expressions.py:73: RuntimeWarning: invalid value encountered in greater\n",
      "  return op(a, b)\n",
      "/usr/local/lib/python3.11/dist-packages/pandas/core/computation/expressions.py:73: RuntimeWarning: invalid value encountered in less\n",
      "  return op(a, b)\n",
      "/usr/local/lib/python3.11/dist-packages/pandas/core/computation/expressions.py:73: RuntimeWarning: invalid value encountered in greater\n",
      "  return op(a, b)\n",
      "/usr/local/lib/python3.11/dist-packages/pandas/core/computation/expressions.py:73: RuntimeWarning: invalid value encountered in less\n",
      "  return op(a, b)\n",
      "/usr/local/lib/python3.11/dist-packages/pandas/core/computation/expressions.py:73: RuntimeWarning: invalid value encountered in greater\n",
      "  return op(a, b)\n",
      "/usr/local/lib/python3.11/dist-packages/pandas/core/computation/expressions.py:73: RuntimeWarning: invalid value encountered in less\n",
      "  return op(a, b)\n",
      "/usr/local/lib/python3.11/dist-packages/pandas/core/computation/expressions.py:73: RuntimeWarning: invalid value encountered in greater\n",
      "  return op(a, b)\n",
      "/usr/local/lib/python3.11/dist-packages/pandas/core/computation/expressions.py:73: RuntimeWarning: invalid value encountered in less\n",
      "  return op(a, b)\n",
      "/usr/local/lib/python3.11/dist-packages/pandas/core/computation/expressions.py:73: RuntimeWarning: invalid value encountered in greater\n",
      "  return op(a, b)\n",
      "/usr/local/lib/python3.11/dist-packages/pandas/core/computation/expressions.py:73: RuntimeWarning: invalid value encountered in less\n",
      "  return op(a, b)\n",
      "/usr/local/lib/python3.11/dist-packages/pandas/core/computation/expressions.py:73: RuntimeWarning: invalid value encountered in greater\n",
      "  return op(a, b)\n",
      "/usr/local/lib/python3.11/dist-packages/pandas/core/computation/expressions.py:73: RuntimeWarning: invalid value encountered in less\n",
      "  return op(a, b)\n",
      "/usr/local/lib/python3.11/dist-packages/pandas/core/computation/expressions.py:73: RuntimeWarning: invalid value encountered in greater\n",
      "  return op(a, b)\n"
     ]
    }
   ],
   "source": [
    "def remove_outliers_iqr(df, cols):\n",
    "    for col in cols:\n",
    "        Q1 = df[col].quantile(0.25)\n",
    "        Q3 = df[col].quantile(0.75)\n",
    "        IQR = Q3 - Q1\n",
    "        lower = Q1 - 1.5 * IQR\n",
    "        upper = Q3 + 1.5 * IQR\n",
    "        df[col] = df[col].mask((df[col] < lower) | (df[col] > upper))\n",
    "    return df\n",
    "\n",
    "train = remove_outliers_iqr(train, ndvi_cols)\n",
    "test = remove_outliers_iqr(test, ndvi_cols)\n",
    "\n",
    "imputer = SimpleImputer(strategy='mean')\n",
    "train[ndvi_cols] = imputer.fit_transform(train[ndvi_cols])\n",
    "test[ndvi_cols] = imputer.transform(test[ndvi_cols])"
   ]
  },
  {
   "cell_type": "markdown",
   "id": "31d638cc",
   "metadata": {
    "id": "04ee195e",
    "papermill": {
     "duration": 0.004917,
     "end_time": "2025-06-12T20:29:28.991731",
     "exception": false,
     "start_time": "2025-06-12T20:29:28.986814",
     "status": "completed"
    },
    "tags": []
   },
   "source": [
    "## 🛠 Feature Engineering"
   ]
  },
  {
   "cell_type": "code",
   "execution_count": 6,
   "id": "f6c6438c",
   "metadata": {
    "execution": {
     "iopub.execute_input": "2025-06-12T20:29:29.003736Z",
     "iopub.status.busy": "2025-06-12T20:29:29.003377Z",
     "iopub.status.idle": "2025-06-12T20:29:29.166878Z",
     "shell.execute_reply": "2025-06-12T20:29:29.165706Z"
    },
    "id": "c7138be2",
    "papermill": {
     "duration": 0.171977,
     "end_time": "2025-06-12T20:29:29.168663",
     "exception": false,
     "start_time": "2025-06-12T20:29:28.996686",
     "status": "completed"
    },
    "tags": []
   },
   "outputs": [],
   "source": [
    "def add_features(df):\n",
    "    df['ndvi_mean'] = df[ndvi_cols].mean(axis=1)\n",
    "    df['ndvi_std'] = df[ndvi_cols].std(axis=1)\n",
    "    df['ndvi_min'] = df[ndvi_cols].min(axis=1)\n",
    "    df['ndvi_max'] = df[ndvi_cols].max(axis=1)\n",
    "    df['ndvi_range'] = df['ndvi_max'] - df['ndvi_min']\n",
    "    df['ndvi_median'] = df[ndvi_cols].median(axis=1)\n",
    "    df['ndvi_skew'] = df[ndvi_cols].skew(axis=1)\n",
    "    df['ndvi_kurt'] = df[ndvi_cols].kurtosis(axis=1)\n",
    "    df['ndvi_diff1_mean'] = df[ndvi_cols].diff(axis=1).mean(axis=1)\n",
    "    df['ndvi_diff2_mean'] = df[ndvi_cols].diff(axis=1, periods=2).mean(axis=1)\n",
    "    df['ndvi_peak_pos'] = df[ndvi_cols].idxmax(axis=1).apply(lambda x: ndvi_cols.index(x))\n",
    "    return df\n",
    "\n",
    "train = add_features(train)\n",
    "test = add_features(test)"
   ]
  },
  {
   "cell_type": "markdown",
   "id": "780afaf2",
   "metadata": {
    "id": "215dc192",
    "papermill": {
     "duration": 0.005286,
     "end_time": "2025-06-12T20:29:29.179374",
     "exception": false,
     "start_time": "2025-06-12T20:29:29.174088",
     "status": "completed"
    },
    "tags": []
   },
   "source": [
    "## 🧪 Model Training"
   ]
  },
  {
   "cell_type": "code",
   "execution_count": 7,
   "id": "95cbf622",
   "metadata": {
    "execution": {
     "iopub.execute_input": "2025-06-12T20:29:29.191296Z",
     "iopub.status.busy": "2025-06-12T20:29:29.190992Z",
     "iopub.status.idle": "2025-06-12T20:29:30.245303Z",
     "shell.execute_reply": "2025-06-12T20:29:30.244542Z"
    },
    "id": "ce8a8f81",
    "outputId": "8e70e579-f606-4b05-9e6f-90d8f482c2e3",
    "papermill": {
     "duration": 1.065271,
     "end_time": "2025-06-12T20:29:30.249912",
     "exception": false,
     "start_time": "2025-06-12T20:29:29.184641",
     "status": "completed"
    },
    "tags": []
   },
   "outputs": [
    {
     "data": {
      "text/html": [
       "<style>#sk-container-id-1 {color: black;background-color: white;}#sk-container-id-1 pre{padding: 0;}#sk-container-id-1 div.sk-toggleable {background-color: white;}#sk-container-id-1 label.sk-toggleable__label {cursor: pointer;display: block;width: 100%;margin-bottom: 0;padding: 0.3em;box-sizing: border-box;text-align: center;}#sk-container-id-1 label.sk-toggleable__label-arrow:before {content: \"▸\";float: left;margin-right: 0.25em;color: #696969;}#sk-container-id-1 label.sk-toggleable__label-arrow:hover:before {color: black;}#sk-container-id-1 div.sk-estimator:hover label.sk-toggleable__label-arrow:before {color: black;}#sk-container-id-1 div.sk-toggleable__content {max-height: 0;max-width: 0;overflow: hidden;text-align: left;background-color: #f0f8ff;}#sk-container-id-1 div.sk-toggleable__content pre {margin: 0.2em;color: black;border-radius: 0.25em;background-color: #f0f8ff;}#sk-container-id-1 input.sk-toggleable__control:checked~div.sk-toggleable__content {max-height: 200px;max-width: 100%;overflow: auto;}#sk-container-id-1 input.sk-toggleable__control:checked~label.sk-toggleable__label-arrow:before {content: \"▾\";}#sk-container-id-1 div.sk-estimator input.sk-toggleable__control:checked~label.sk-toggleable__label {background-color: #d4ebff;}#sk-container-id-1 div.sk-label input.sk-toggleable__control:checked~label.sk-toggleable__label {background-color: #d4ebff;}#sk-container-id-1 input.sk-hidden--visually {border: 0;clip: rect(1px 1px 1px 1px);clip: rect(1px, 1px, 1px, 1px);height: 1px;margin: -1px;overflow: hidden;padding: 0;position: absolute;width: 1px;}#sk-container-id-1 div.sk-estimator {font-family: monospace;background-color: #f0f8ff;border: 1px dotted black;border-radius: 0.25em;box-sizing: border-box;margin-bottom: 0.5em;}#sk-container-id-1 div.sk-estimator:hover {background-color: #d4ebff;}#sk-container-id-1 div.sk-parallel-item::after {content: \"\";width: 100%;border-bottom: 1px solid gray;flex-grow: 1;}#sk-container-id-1 div.sk-label:hover label.sk-toggleable__label {background-color: #d4ebff;}#sk-container-id-1 div.sk-serial::before {content: \"\";position: absolute;border-left: 1px solid gray;box-sizing: border-box;top: 0;bottom: 0;left: 50%;z-index: 0;}#sk-container-id-1 div.sk-serial {display: flex;flex-direction: column;align-items: center;background-color: white;padding-right: 0.2em;padding-left: 0.2em;position: relative;}#sk-container-id-1 div.sk-item {position: relative;z-index: 1;}#sk-container-id-1 div.sk-parallel {display: flex;align-items: stretch;justify-content: center;background-color: white;position: relative;}#sk-container-id-1 div.sk-item::before, #sk-container-id-1 div.sk-parallel-item::before {content: \"\";position: absolute;border-left: 1px solid gray;box-sizing: border-box;top: 0;bottom: 0;left: 50%;z-index: -1;}#sk-container-id-1 div.sk-parallel-item {display: flex;flex-direction: column;z-index: 1;position: relative;background-color: white;}#sk-container-id-1 div.sk-parallel-item:first-child::after {align-self: flex-end;width: 50%;}#sk-container-id-1 div.sk-parallel-item:last-child::after {align-self: flex-start;width: 50%;}#sk-container-id-1 div.sk-parallel-item:only-child::after {width: 0;}#sk-container-id-1 div.sk-dashed-wrapped {border: 1px dashed gray;margin: 0 0.4em 0.5em 0.4em;box-sizing: border-box;padding-bottom: 0.4em;background-color: white;}#sk-container-id-1 div.sk-label label {font-family: monospace;font-weight: bold;display: inline-block;line-height: 1.2em;}#sk-container-id-1 div.sk-label-container {text-align: center;}#sk-container-id-1 div.sk-container {/* jupyter's `normalize.less` sets `[hidden] { display: none; }` but bootstrap.min.css set `[hidden] { display: none !important; }` so we also need the `!important` here to be able to override the default hidden behavior on the sphinx rendered scikit-learn.org. See: https://github.com/scikit-learn/scikit-learn/issues/21755 */display: inline-block !important;position: relative;}#sk-container-id-1 div.sk-text-repr-fallback {display: none;}</style><div id=\"sk-container-id-1\" class=\"sk-top-container\"><div class=\"sk-text-repr-fallback\"><pre>LogisticRegression(class_weight=&#x27;balanced&#x27;, max_iter=1000,\n",
       "                   multi_class=&#x27;multinomial&#x27;)</pre><b>In a Jupyter environment, please rerun this cell to show the HTML representation or trust the notebook. <br />On GitHub, the HTML representation is unable to render, please try loading this page with nbviewer.org.</b></div><div class=\"sk-container\" hidden><div class=\"sk-item\"><div class=\"sk-estimator sk-toggleable\"><input class=\"sk-toggleable__control sk-hidden--visually\" id=\"sk-estimator-id-1\" type=\"checkbox\" checked><label for=\"sk-estimator-id-1\" class=\"sk-toggleable__label sk-toggleable__label-arrow\">LogisticRegression</label><div class=\"sk-toggleable__content\"><pre>LogisticRegression(class_weight=&#x27;balanced&#x27;, max_iter=1000,\n",
       "                   multi_class=&#x27;multinomial&#x27;)</pre></div></div></div></div></div>"
      ],
      "text/plain": [
       "LogisticRegression(class_weight='balanced', max_iter=1000,\n",
       "                   multi_class='multinomial')"
      ]
     },
     "execution_count": 7,
     "metadata": {},
     "output_type": "execute_result"
    }
   ],
   "source": [
    "features = ndvi_cols + [\n",
    "    'ndvi_mean', 'ndvi_std', 'ndvi_min', 'ndvi_max', 'ndvi_range',\n",
    "    'ndvi_median', 'ndvi_skew', 'ndvi_kurt', 'ndvi_diff1_mean',\n",
    "    'ndvi_diff2_mean', 'ndvi_peak_pos']\n",
    "\n",
    "X = train[features]\n",
    "y = train['class']\n",
    "X_test_final = test[features]\n",
    "\n",
    "scaler = StandardScaler()\n",
    "X_scaled = scaler.fit_transform(X)\n",
    "X_test_scaled = scaler.transform(X_test_final)\n",
    "\n",
    "X_train, X_val, y_train, y_val = train_test_split(X_scaled, y, test_size=0.2, stratify=y, random_state=42)\n",
    "\n",
    "model = LogisticRegression(multi_class='multinomial', solver='lbfgs', class_weight='balanced', max_iter=1000)\n",
    "model.fit(X_train, y_train)"
   ]
  },
  {
   "cell_type": "markdown",
   "id": "789469d5",
   "metadata": {
    "id": "9088dc54",
    "papermill": {
     "duration": 0.008186,
     "end_time": "2025-06-12T20:29:30.267039",
     "exception": false,
     "start_time": "2025-06-12T20:29:30.258853",
     "status": "completed"
    },
    "tags": []
   },
   "source": [
    "## 📈 Evaluation"
   ]
  },
  {
   "cell_type": "code",
   "execution_count": 8,
   "id": "2d800b5b",
   "metadata": {
    "execution": {
     "iopub.execute_input": "2025-06-12T20:29:30.286008Z",
     "iopub.status.busy": "2025-06-12T20:29:30.285624Z",
     "iopub.status.idle": "2025-06-12T20:29:30.368384Z",
     "shell.execute_reply": "2025-06-12T20:29:30.367145Z"
    },
    "id": "f9e15742",
    "outputId": "016d4a0a-ff13-41fc-bcfd-2601659e9751",
    "papermill": {
     "duration": 0.094264,
     "end_time": "2025-06-12T20:29:30.370056",
     "exception": false,
     "start_time": "2025-06-12T20:29:30.275792",
     "status": "completed"
    },
    "tags": []
   },
   "outputs": [
    {
     "name": "stdout",
     "output_type": "stream",
     "text": [
      "              precision    recall  f1-score   support\n",
      "\n",
      "        farm       0.60      0.71      0.65       168\n",
      "      forest       0.98      0.83      0.90      1232\n",
      "       grass       0.34      0.74      0.46        39\n",
      "  impervious       0.84      0.84      0.84       134\n",
      "     orchard       0.06      0.83      0.11         6\n",
      "       water       0.30      0.76      0.43        21\n",
      "\n",
      "    accuracy                           0.82      1600\n",
      "   macro avg       0.52      0.79      0.57      1600\n",
      "weighted avg       0.90      0.82      0.85      1600\n",
      "\n",
      "[[ 120   14    9    7   10    8]\n",
      " [  69 1022   42    7   67   25]\n",
      " [   2    3   29    5    0    0]\n",
      " [   7    4    6  113    0    4]\n",
      " [   1    0    0    0    5    0]\n",
      " [   1    0    0    3    1   16]]\n"
     ]
    }
   ],
   "source": [
    "y_val_pred = model.predict(X_val)\n",
    "print(classification_report(y_val, y_val_pred))\n",
    "print(confusion_matrix(y_val, y_val_pred))"
   ]
  },
  {
   "cell_type": "markdown",
   "id": "c6f44e6e",
   "metadata": {
    "id": "b647466c",
    "papermill": {
     "duration": 0.005017,
     "end_time": "2025-06-12T20:29:30.380492",
     "exception": false,
     "start_time": "2025-06-12T20:29:30.375475",
     "status": "completed"
    },
    "tags": []
   },
   "source": [
    "## 📤 Submission"
   ]
  },
  {
   "cell_type": "code",
   "execution_count": 9,
   "id": "e5b6dab7",
   "metadata": {
    "execution": {
     "iopub.execute_input": "2025-06-12T20:29:30.392069Z",
     "iopub.status.busy": "2025-06-12T20:29:30.391737Z",
     "iopub.status.idle": "2025-06-12T20:29:30.405988Z",
     "shell.execute_reply": "2025-06-12T20:29:30.405050Z"
    },
    "id": "3e379a8a",
    "papermill": {
     "duration": 0.021991,
     "end_time": "2025-06-12T20:29:30.407607",
     "exception": false,
     "start_time": "2025-06-12T20:29:30.385616",
     "status": "completed"
    },
    "tags": []
   },
   "outputs": [],
   "source": [
    "y_test_pred = model.predict(X_test_scaled)\n",
    "submission = pd.DataFrame({'ID': test['ID'], 'class': y_test_pred})\n",
    "submission.to_csv('submission.csv', index=False)\n",
    "#submission.to_csv('/kaggle/working/ultimate_submission.csv', index=False)"
   ]
  },
  {
   "cell_type": "code",
   "execution_count": null,
   "id": "7b5be4df",
   "metadata": {
    "id": "0VvpWZrLodnb",
    "papermill": {
     "duration": 0.004935,
     "end_time": "2025-06-12T20:29:30.418849",
     "exception": false,
     "start_time": "2025-06-12T20:29:30.413914",
     "status": "completed"
    },
    "tags": []
   },
   "outputs": [],
   "source": []
  }
 ],
 "metadata": {
  "colab": {
   "provenance": []
  },
  "kaggle": {
   "accelerator": "none",
   "dataSources": [
    {
     "databundleVersionId": 12585144,
     "sourceId": 104491,
     "sourceType": "competition"
    }
   ],
   "dockerImageVersionId": 31040,
   "isGpuEnabled": false,
   "isInternetEnabled": true,
   "language": "python",
   "sourceType": "notebook"
  },
  "kernelspec": {
   "display_name": "Python 3",
   "language": "python",
   "name": "python3"
  },
  "language_info": {
   "codemirror_mode": {
    "name": "ipython",
    "version": 3
   },
   "file_extension": ".py",
   "mimetype": "text/x-python",
   "name": "python",
   "nbconvert_exporter": "python",
   "pygments_lexer": "ipython3",
   "version": "3.11.11"
  },
  "papermill": {
   "default_parameters": {},
   "duration": 13.336625,
   "end_time": "2025-06-12T20:29:31.143875",
   "environment_variables": {},
   "exception": null,
   "input_path": "__notebook__.ipynb",
   "output_path": "__notebook__.ipynb",
   "parameters": {},
   "start_time": "2025-06-12T20:29:17.807250",
   "version": "2.6.0"
  }
 },
 "nbformat": 4,
 "nbformat_minor": 5
}
